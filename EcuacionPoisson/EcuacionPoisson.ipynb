{
 "cells": [
  {
   "cell_type": "markdown",
   "metadata": {
    "id": "oZ0Pi30gM8Ig"
   },
   "source": [
    "<h1>Geometría Diferencial Discreta</h1>\n",
    "<h2>Proyecto final</h2>\n",
    "<h4>Miguel Ruíz & Franklin Echeverría</h4>\n",
    "\n",
    "Se encontrará una solución numérica al siguiente sistema.\n",
    "Sea \n",
    "$$\n",
    "\\Omega=\\{(x,y):x^{2}+y^{2}\\leq1\\}\n",
    "$$\n",
    "\n",
    "Encontrar $f:\\Omega\\rightarrow\\mathbb{R}$ tal que \n",
    "\\begin{align*}\n",
    "\\Delta f & =-1\\\\\n",
    "f(x,y) & =10 \\quad \\text{ para } (x,y)\\in\\partial\\Omega\n",
    "\\end{align*}\n",
    "\n",
    "Además comparar gráficamente con la solución exacta\n",
    "$$\n",
    "f(x,y)=\\frac{1-x^{2}-y^{2}}{4}+10\n",
    "$$\n",
    "\n",
    "Para ello se importará una malla que sirva como discretización de $\\Omega$. Sobre esta se calculará la discretización del laplaciano y utilizando mínimos cuadrados se resolverá finalmente el sistema.\n",
    "\n",
    "\n",
    "---\n",
    "\n"
   ]
  },
  {
   "cell_type": "markdown",
   "metadata": {
    "id": "79C5rGZuxkOZ"
   },
   "source": [
    "# Librerías e importación de datos"
   ]
  },
  {
   "cell_type": "code",
   "execution_count": 1,
   "metadata": {
    "id": "WBhQ1YpIghP_"
   },
   "outputs": [],
   "source": [
    "# Librerias\n",
    "import matplotlib.pyplot as plt\n",
    "from matplotlib import cm\n",
    "from mpl_toolkits.mplot3d import Axes3D\n",
    "%matplotlib inline\n",
    "import numpy as np\n",
    "import networkx as nx # Libreria de graficas\n",
    "import math\n"
   ]
  },
  {
   "cell_type": "markdown",
   "metadata": {},
   "source": [
    "### Cargar la primera malla (la más burda)"
   ]
  },
  {
   "cell_type": "code",
   "execution_count": null,
   "metadata": {},
   "outputs": [],
   "source": [
    "a = np.loadtxt(\"aristas_malla1.txt\",delimiter=\",\",dtype=int) - 1\n",
    "c = np.loadtxt(\"caras_malla1.txt\",delimiter=\",\",dtype=int) - 1\n",
    "# Leyendo geometria de la malla\n",
    "v = np.loadtxt(\"coordenadas_malla1.txt\",delimiter=\",\")"
   ]
  },
  {
   "cell_type": "markdown",
   "metadata": {},
   "source": [
    "### Cargar la segunda malla"
   ]
  },
  {
   "cell_type": "code",
   "execution_count": 44,
   "metadata": {},
   "outputs": [],
   "source": [
    "a = np.loadtxt(\"aristas_malla2.txt\",delimiter=\",\",dtype=int) - 1\n",
    "c = np.loadtxt(\"caras_malla2.txt\",delimiter=\",\",dtype=int) - 1\n",
    "# Leyendo geometria de la malla\n",
    "v = np.loadtxt(\"coordenadas_malla2.txt\",delimiter=\",\")"
   ]
  },
  {
   "cell_type": "markdown",
   "metadata": {},
   "source": [
    "### Cargar la tercera malla (la más fina)"
   ]
  },
  {
   "cell_type": "code",
   "execution_count": 159,
   "metadata": {},
   "outputs": [],
   "source": [
    "a = np.loadtxt(\"aristas_malla3.txt\",delimiter=\",\",dtype=int) - 1\n",
    "c = np.loadtxt(\"caras_malla3.txt\",delimiter=\",\",dtype=int) - 1\n",
    "# Leyendo geometria de la malla\n",
    "v = np.loadtxt(\"coordenadas_malla3.txt\",delimiter=\",\")"
   ]
  },
  {
   "cell_type": "markdown",
   "metadata": {
    "id": "pVviju2Mz3xo"
   },
   "source": [
    "# Discretización del Laplaciano"
   ]
  },
  {
   "cell_type": "markdown",
   "metadata": {
    "id": "SYA3prJFz908"
   },
   "source": [
    "<h3>Matriz de primera derivada exterior ($d_0$)</h3>\n"
   ]
  },
  {
   "cell_type": "code",
   "execution_count": 160,
   "metadata": {
    "id": "6cm7rcvoz3ff"
   },
   "outputs": [],
   "source": [
    "# Se crea una matriz de ceros\n",
    "d_0= np.zeros([len(a), len(v)]) \n",
    "\n",
    "# Se asignan las orientaciones de las aristas\n",
    "for i in range(len(a)):\n",
    "  d_0[i][ a[i][0] ] = -1\n",
    "  d_0[i][ a[i][1] ] = 1"
   ]
  },
  {
   "cell_type": "code",
   "execution_count": 161,
   "metadata": {},
   "outputs": [
    {
     "data": {
      "text/plain": [
       "array([[ 0.,  0.,  0., ...,  0.,  0.,  0.],\n",
       "       [ 0.,  0.,  0., ...,  0.,  0.,  0.],\n",
       "       [ 0.,  0.,  0., ...,  0.,  0.,  0.],\n",
       "       ...,\n",
       "       [ 0.,  0.,  0., ..., -1.,  0.,  0.],\n",
       "       [ 0.,  0.,  0., ...,  0.,  0.,  1.],\n",
       "       [ 0.,  0.,  0., ...,  0., -1.,  0.]])"
      ]
     },
     "execution_count": 161,
     "metadata": {},
     "output_type": "execute_result"
    }
   ],
   "source": [
    "d_0"
   ]
  },
  {
   "cell_type": "markdown",
   "metadata": {
    "id": "4LBWcsZU5nSh"
   },
   "source": [
    "<h3>Matriz de la estrella de Hodge para 1 formas ($*_1$)</h3>"
   ]
  },
  {
   "cell_type": "code",
   "execution_count": 162,
   "metadata": {
    "id": "AIUjXmx-54Ol"
   },
   "outputs": [],
   "source": [
    "# Funcion que calcula el circuentro de un triangulo\n",
    "def circuncentro ( t ): # t es una lista con los numeros de los vertices que forman el triangulo\n",
    "  # Coordenadas de los puntos\n",
    "  A=v[t[0]]\n",
    "  B=v[t[1]]\n",
    "  C=v[t[2]]\n",
    "  # Calculo del circuncentro\n",
    "  D=2*( A[0]*(B[1]-C[1])+B[0]*(C[1]-A[1])+C[0]*(A[1]-B[1]) )\n",
    "  O_x=( (A[0]*A[0]+A[1]*A[1])*(B[1]-C[1]) + (B[0]*B[0]+B[1]*B[1])*(C[1]-A[1]) + (C[0]*C[0]+C[1]*C[1])*(A[1]-B[1]) )/D\n",
    "  O_y=( (A[0]*A[0]+A[1]*A[1])*(C[0]-B[0]) + (B[0]*B[0]+B[1]*B[1])*(A[0]-C[0]) + (C[0]*C[0]+C[1]*C[1])*(B[0]-A[0]) )/D\n",
    "  # Circuncentro\n",
    "  return np.array([O_x,O_y])\n",
    "\n",
    "# Matriz de circuncentros para cada triángulo en la matriz c\n",
    "circuncentros=[]\n",
    "for i in c:\n",
    "  circuncentros.append( circuncentro(i) )"
   ]
  },
  {
   "cell_type": "code",
   "execution_count": 163,
   "metadata": {
    "id": "JAa_1X2QAetO"
   },
   "outputs": [],
   "source": [
    "# Funcion distancia en R2\n",
    "def distancia( a , b):\n",
    "  return math.sqrt( (a[0]-b[0])*(a[0]-b[0]) + (a[1]-b[1])*(a[1]-b[1]) )\n",
    "\n",
    "# Funcion que devuelve los indices de los puntos (en circuncentros[]) que forman la arista dual dada la original\n",
    "def arista_dual( a_orig ):\n",
    "  a_set = set(a_orig)\n",
    "  r = []\n",
    "  global c\n",
    "  for i in range(len(c)):\n",
    "    cara = set(c[i])\n",
    "    if ( len( a_set & cara )==2 ):\n",
    "      r.append(i)\n",
    "  return r\n",
    "\n",
    "# Funcion que devuelve la longitud de arista dual dada la arista original a_orig\n",
    "def long_dual( a_orig ):\n",
    "  # Se obtienen los puntos que definen la arista dual\n",
    "  p=arista_dual(a_orig)\n",
    "  if ( len(p) == 0 ):\n",
    "    print(\"Error\")\n",
    "  elif ( len(p) == 1 ):\n",
    "    a=v[a_orig[0]]\n",
    "    b=v[a_orig[1]]\n",
    "    medio=[ (a[0]+b[0])/2. , (a[1]+b[1])/2. ]\n",
    "    return distancia( circuncentros[p[0]] , medio )\n",
    "  else:\n",
    "    return distancia( circuncentros[p[0]], circuncentros[p[1]] )"
   ]
  },
  {
   "cell_type": "code",
   "execution_count": 164,
   "metadata": {
    "id": "SjSCNpbLRmBn"
   },
   "outputs": [],
   "source": [
    "# Se crea una matriz de ceros\n",
    "estrella1= np.zeros([len(a), len(a)]) ### CHECAR SI SE DEBE QUEDAR COMO MATRIZ DE ENTEROS  d_0= np.zeros([len(a), len(v)], dtype = int)\n",
    "\n",
    "# Se asignan las orientaciones de las aristas\n",
    "for i in range(len(a)):\n",
    "  p=v[a[i][0]] \n",
    "  q=v[a[i][1]]\n",
    "  estrella1[i][i] =(long_dual(a[i]))/(distancia(p, q))\n"
   ]
  },
  {
   "cell_type": "code",
   "execution_count": 165,
   "metadata": {},
   "outputs": [
    {
     "data": {
      "text/plain": [
       "array([[0.71761043, 0.        , 0.        , ..., 0.        , 0.        ,\n",
       "        0.        ],\n",
       "       [0.        , 0.22053389, 0.        , ..., 0.        , 0.        ,\n",
       "        0.        ],\n",
       "       [0.        , 0.        , 0.8096308 , ..., 0.        , 0.        ,\n",
       "        0.        ],\n",
       "       ...,\n",
       "       [0.        , 0.        , 0.        , ..., 0.54850195, 0.        ,\n",
       "        0.        ],\n",
       "       [0.        , 0.        , 0.        , ..., 0.        , 0.90656589,\n",
       "        0.        ],\n",
       "       [0.        , 0.        , 0.        , ..., 0.        , 0.        ,\n",
       "        0.39662521]])"
      ]
     },
     "execution_count": 165,
     "metadata": {},
     "output_type": "execute_result"
    }
   ],
   "source": [
    "estrella1"
   ]
  },
  {
   "cell_type": "markdown",
   "metadata": {
    "id": "vut6Pc1KJVeB"
   },
   "source": [
    "<h3>Matriz de derivada exterior para 1 formas ($d_1$)</h3>"
   ]
  },
  {
   "cell_type": "raw",
   "metadata": {
    "id": "kUAOEQb7J1Ih"
   },
   "source": [
    "# Esta es otra manera de calcular d_1\n",
    "\n",
    "d_1= np.zeros([len(v), len(a)]) \n",
    "\n",
    "# Se asignan las orientaciones de las aristas\n",
    "for i in range(len(v)):\n",
    "  for j in range(len(a)):\n",
    "    if ( i==a[j][0] ):\n",
    "      d_1[i][j]=1\n",
    "    elif ( i==a[j][1] ):\n",
    "      d_1[i][j]=-1"
   ]
  },
  {
   "cell_type": "markdown",
   "metadata": {},
   "source": [
    "$$d_1^d = -d_0^T$$"
   ]
  },
  {
   "cell_type": "code",
   "execution_count": 167,
   "metadata": {
    "id": "kUAOEQb7J1Ih"
   },
   "outputs": [],
   "source": [
    "d_1= -np.transpose(d_0)"
   ]
  },
  {
   "cell_type": "code",
   "execution_count": 168,
   "metadata": {},
   "outputs": [
    {
     "data": {
      "text/plain": [
       "array([[-0., -0., -0., ..., -0., -0., -0.],\n",
       "       [-0., -0., -0., ..., -0., -0., -0.],\n",
       "       [-0., -0., -0., ..., -0., -0., -0.],\n",
       "       ...,\n",
       "       [-0., -0., -0., ...,  1., -0., -0.],\n",
       "       [-0., -0., -0., ..., -0., -0.,  1.],\n",
       "       [-0., -0., -0., ..., -0., -1., -0.]])"
      ]
     },
     "execution_count": 168,
     "metadata": {},
     "output_type": "execute_result"
    }
   ],
   "source": [
    "d_1"
   ]
  },
  {
   "cell_type": "markdown",
   "metadata": {
    "id": "TUUpZKKYS3aB"
   },
   "source": [
    "<h3>Estrella de Hodge para 2 formas ($*_2$)</h3>"
   ]
  },
  {
   "cell_type": "code",
   "execution_count": 169,
   "metadata": {
    "id": "MELc-GY_URqd"
   },
   "outputs": [],
   "source": [
    "# Arreglo vs numeración de los vertices\n",
    "vs = np.array([i for i in range(len(v))])\n",
    "\n",
    "# Arreglo vc tal que vc[i] son las caras a las que pertenece el vertice i\n",
    "vc = [[] for i in vs]\n",
    "for i in range(len(c)):\n",
    "    vc[c[i][0]].append(c[i])\n",
    "    vc[c[i][1]].append(c[i])\n",
    "    vc[c[i][2]].append(c[i])"
   ]
  },
  {
   "cell_type": "markdown",
   "metadata": {
    "id": "a-7FqOKFWCYp"
   },
   "source": [
    "Cálculo del área de la celda dual"
   ]
  },
  {
   "cell_type": "code",
   "execution_count": 170,
   "metadata": {
    "id": "rzIn4JovV_mL"
   },
   "outputs": [],
   "source": [
    "def semiAreaDual(i, ci):\n",
    "    # Funcion para calcular la aportacion del triangulo ci al area de [v_i]*\n",
    "    # i es el indice del vertice (dual)\n",
    "    l = []\n",
    "    if ci[0] != i:\n",
    "        l.append(distancia(v[i], v[ci[0]]))\n",
    "    if ci[1] != i:\n",
    "        l.append(distancia(v[i], v[ci[1]]))\n",
    "    if ci[2] != i:    \n",
    "        l.append(distancia(v[i], v[ci[2]]))\n",
    "    l = np.array(l)\n",
    "    l = l/2.0\n",
    "    \n",
    "    cci = circuncentro(ci) \n",
    "    \n",
    "    z = distancia(cci, v[i])\n",
    "    \n",
    "    area = (l[0]/2.0)*(z**2 - l[0]**2)**0.5+(l[1]/2.0)*(z**2 - l[1]**2)**0.5 # esta formula se deduce sacando el area de los triangulos\n",
    "    # (v[i], cci, p1), (v[i], cci, p2), donde p1 y p2 son los puntos medios de los segmentos del triangulo ci que contienen a v[i]\n",
    "    # y utilizando teorema de pitagoras para calcular distancia(p1, cci) y distancia(p2, cci)\n",
    "    \n",
    "    return area"
   ]
  },
  {
   "cell_type": "code",
   "execution_count": 171,
   "metadata": {
    "id": "1YsWeLo2WKuv"
   },
   "outputs": [],
   "source": [
    "def areaDual(i):\n",
    "    area = 0.0\n",
    "    for j in range(len(vc[i])):\n",
    "        area += semiAreaDual(i, vc[i][j])\n",
    "    \n",
    "    return area"
   ]
  },
  {
   "cell_type": "code",
   "execution_count": 172,
   "metadata": {
    "id": "WoijAqlBWPjZ"
   },
   "outputs": [],
   "source": [
    "n = len(vs)\n",
    "estrella2 = np.zeros((n,n))\n",
    "for i in range(n):\n",
    "    estrella2[i][i] = areaDual(i)**(-1)"
   ]
  },
  {
   "cell_type": "code",
   "execution_count": 173,
   "metadata": {},
   "outputs": [
    {
     "data": {
      "text/plain": [
       "array([[301.1201327 ,   0.        ,   0.        , ...,   0.        ,\n",
       "          0.        ,   0.        ],\n",
       "       [  0.        , 290.45804203,   0.        , ...,   0.        ,\n",
       "          0.        ,   0.        ],\n",
       "       [  0.        ,   0.        , 307.91096032, ...,   0.        ,\n",
       "          0.        ,   0.        ],\n",
       "       ...,\n",
       "       [  0.        ,   0.        ,   0.        , ..., 225.76557137,\n",
       "          0.        ,   0.        ],\n",
       "       [  0.        ,   0.        ,   0.        , ...,   0.        ,\n",
       "        165.35881147,   0.        ],\n",
       "       [  0.        ,   0.        ,   0.        , ...,   0.        ,\n",
       "          0.        , 223.72535478]])"
      ]
     },
     "execution_count": 173,
     "metadata": {},
     "output_type": "execute_result"
    }
   ],
   "source": [
    "estrella2"
   ]
  },
  {
   "cell_type": "markdown",
   "metadata": {
    "id": "RaI-LtOsa49M"
   },
   "source": [
    "<h3>Matriz del Laplaciano ($\\Delta_0$)</h3>"
   ]
  },
  {
   "cell_type": "code",
   "execution_count": 174,
   "metadata": {
    "id": "9DOst7ecbQN3"
   },
   "outputs": [],
   "source": [
    "L=np.matmul(estrella2, np.matmul(d_1, np.matmul(estrella1, d_0)))"
   ]
  },
  {
   "cell_type": "code",
   "execution_count": 175,
   "metadata": {},
   "outputs": [
    {
     "data": {
      "text/plain": [
       "array([[-584.62162674,   78.07933921,    0.        , ...,    0.        ,\n",
       "           0.        ,    0.        ],\n",
       "       [  75.31469845, -502.84308748,  117.27618724, ...,    0.        ,\n",
       "           0.        ,    0.        ],\n",
       "       [   0.        ,  124.32302849, -545.16601681, ...,    0.        ,\n",
       "           0.        ,    0.        ],\n",
       "       ...,\n",
       "       [   0.        ,    0.        ,    0.        , ..., -958.39608235,\n",
       "           0.        ,    0.        ],\n",
       "       [   0.        ,    0.        ,    0.        , ...,    0.        ,\n",
       "        -602.1708461 ,  150.44001852],\n",
       "       [   0.        ,    0.        ,    0.        , ...,    0.        ,\n",
       "         203.54068959, -872.90150947]])"
      ]
     },
     "execution_count": 175,
     "metadata": {},
     "output_type": "execute_result"
    }
   ],
   "source": [
    "L"
   ]
  },
  {
   "cell_type": "markdown",
   "metadata": {
    "id": "bF1ijJf_nmHg"
   },
   "source": [
    "# Solución"
   ]
  },
  {
   "cell_type": "markdown",
   "metadata": {
    "id": "6YQR_t9NTCe0"
   },
   "source": [
    "Podemos agregar las condiciones de frontera $$f(x,y)=10, \\quad \\forall \\quad (x,y)\\in \\partial \\Omega,$$ a nuestro sistema de ecuaciones como sigue. Sea $n$ el número de vértices de la malla asociada a $\\Omega$ y $k$ el número de vértices en la frontera. Sea $A$ la matriz de $(n+k)\\times n$ tal que las primeras $n\\times n$ entradas corresponden a la matriz $[\\Delta]$ asociada a la discretización del Laplaciano y la entrada $A_{(n+i)\\times j} = 1$ si el vértice $j$ es el $i$-ésimo vértice en la frontera, y $0$ en las demás entradas. Sea $q\\in \\mathbb{R}^{n+k}$ (como vector columna) tal que las primeras $n$ entradas son iguales a $-1$ y las últimas $k$ entradas son iguales a $10$. De esta manera, al solucionar la ecuación\n",
    "$$ Af = q, \\quad f\\in \\mathbb{R}^n,$$ obtendremos un vector $f$ que representa la función $f_0$ evaluada en los vértices de la malla tal que $\\Delta f_0 = -1$ y que cumple las condiciones de frontera.\n",
    "\n",
    "Para solucionar el sistema $Af=q$, dado que $A$ tiene más renglones que columnas, en principio puede que no haya solución (aunque sabemos que sí existe). Quisiéramos de todos modos encontrar $f$ que minimice $||Af-q||^2$, y en el mejor de los casos dicha norma será 0, que es cuando sí hay solución. Tenemos así un problema de mínimos cuadrados lineales el cual sabemos que se soluciona con el sistema $A^TAf = A^Tq$. "
   ]
  },
  {
   "cell_type": "code",
   "execution_count": 177,
   "metadata": {
    "id": "bjbcFdjOTCe0"
   },
   "outputs": [],
   "source": [
    "def minimosCuadrados(A, q):\n",
    "    At = np.transpose(A)\n",
    "    AtA = At @ A\n",
    "    Atq = At @ q\n",
    "    \n",
    "    f = np.linalg.solve(AtA, Atq)\n",
    "    return f"
   ]
  },
  {
   "cell_type": "code",
   "execution_count": 178,
   "metadata": {
    "id": "KfzteAq6TCe0"
   },
   "outputs": [],
   "source": [
    "def frontierCondition(L, q, frontier):\n",
    "    # Recibe la discretizacion del Laplaciano L, el vector independiente q, y los indices de los vertices de la malla en la frontera de Omega (la bola de radio 1)\n",
    "    # Agrega filas a la matriz para considerar las condiciones de frontera y las entradas correspondientes a q\n",
    "    n = L.shape[0]\n",
    "    k = len(frontier)\n",
    "    Ladd = np.zeros([k,n])\n",
    "    for i in range(k):\n",
    "        Ladd[i][frontier[i]] = 1.0\n",
    "    \n",
    "    L = np.vstack((L, Ladd))\n",
    "    \n",
    "    q = np.hstack((q, [10 for i in range(len(frontier))]))\n",
    "    \n",
    "    return L, q\n",
    "    "
   ]
  },
  {
   "cell_type": "markdown",
   "metadata": {
    "id": "uQVCo9aNqfTq"
   },
   "source": [
    "<h3>Solución del problema planteado</h3>"
   ]
  },
  {
   "cell_type": "markdown",
   "metadata": {
    "id": "6Ovf2ldHTwqM"
   },
   "source": [
    "Grafo asociado a la malla\n",
    "\n",
    "\n",
    "\n"
   ]
  },
  {
   "cell_type": "code",
   "execution_count": 179,
   "metadata": {
    "id": "BIkXyvxzS_0j"
   },
   "outputs": [],
   "source": [
    "G = nx.Graph()\n",
    "G.add_nodes_from(vs)\n",
    "G.add_edges_from(a)\n"
   ]
  },
  {
   "cell_type": "code",
   "execution_count": 180,
   "metadata": {
    "id": "uBiJ7NA6qnOw"
   },
   "outputs": [],
   "source": [
    "# Funcion para encontrar los puntos que son frontera\n",
    "def frontera():\n",
    "  global G\n",
    "  f=[]\n",
    "  for i in G.nodes:\n",
    "    if (G.degree(i)<=4):\n",
    "      f.append(i)\n",
    "  return f\n",
    "\n",
    "# Vectores necesarios para resolver el problema \n",
    "q = np.array([-1 for i in range(len(v))])\n",
    "frontier = frontera()"
   ]
  },
  {
   "cell_type": "code",
   "execution_count": 187,
   "metadata": {
    "id": "0HOuHyiTuUyL"
   },
   "outputs": [
    {
     "data": {
      "text/plain": [
       "array([10.00398475, 10.00337982, 10.00290194, 10.0022141 , 10.00143124,\n",
       "       10.00074658, 10.00004894,  9.99934661,  9.99883127,  9.99902011,\n",
       "        9.9996986 , 10.00035677, 10.00011463,  9.99982438,  9.99927096,\n",
       "        9.99856357,  9.99800895,  9.99771138,  9.99760574,  9.99752831,\n",
       "        9.99764768,  9.99756022,  9.99736754,  9.99714759,  9.99670341,\n",
       "        9.99591247,  9.99505189,  9.99481311,  9.99520669,  9.9957805 ,\n",
       "        9.99570419,  9.99566392,  9.99540155,  9.99499187,  9.99470564,\n",
       "        9.99463766,  9.99471977,  9.99485653,  9.99522456,  9.99550203,\n",
       "        9.99591654,  9.99671253,  9.99793156,  9.99917432,  9.99999616,\n",
       "       10.00031654, 10.00093108, 10.00166446, 10.00173317, 10.00184286,\n",
       "       10.00179302, 10.00170883, 10.00187676, 10.00235422, 10.00299492,\n",
       "       10.00383671, 10.00496342, 10.00585955, 10.00664692, 10.00734769,\n",
       "       10.00777846, 10.00775496, 10.00754848, 10.0078192 , 10.00850154,\n",
       "       10.00915108, 10.00884063, 10.00832847, 10.00741779, 10.00627668,\n",
       "       10.00526546, 10.00451307,  9.99801571, 10.00036335,  9.99995952,\n",
       "        9.99041911, 10.00202032,  9.99323788,  9.99244714,  9.99540176,\n",
       "        9.99888012, 10.00204095, 10.00056069, 10.00454952,  9.9927937 ,\n",
       "       10.002342  , 10.00338008,  9.99645637,  9.99343262,  9.99316742,\n",
       "        9.99620927,  9.99634185,  9.99998696, 10.0052025 ,  9.99352618,\n",
       "        9.99723788, 10.00367527,  9.99903036,  9.99150311,  9.99469796,\n",
       "        9.9991003 , 10.00741209,  9.99293408,  9.99762858, 10.00049338,\n",
       "        9.99856591, 10.00459243, 10.00231774,  9.99363528,  9.99173525,\n",
       "        9.99707338,  9.99499284, 10.00379914, 10.00540635, 10.00093595,\n",
       "        9.99920478,  9.99349963,  9.99402075,  9.99596867,  9.99558956,\n",
       "        9.99803439, 10.00039425, 10.00595187, 10.00789911,  9.99239157,\n",
       "        9.99442053,  9.99712618,  9.99901072,  9.99955401,  9.99733262,\n",
       "       10.0042681 , 10.00234466,  9.99303255,  9.9917477 ,  9.9965426 ,\n",
       "        9.99497009, 10.00453785, 10.00461627, 10.00294558, 10.00170161,\n",
       "       10.0008874 , 10.00288335, 10.00282781, 10.00423597, 10.00069407,\n",
       "       10.0013132 , 10.00244833,  9.99947411, 10.00616941, 10.00517528,\n",
       "       10.00357582, 10.00550682, 10.0032996 , 10.00350821, 10.00473206,\n",
       "       10.00180669,  9.99707559,  9.99901895,  9.99995569,  9.99986439,\n",
       "        9.99865583,  9.99991289,  9.99831114, 10.0013981 , 10.00033159,\n",
       "       10.00075576,  9.99597976,  9.99731275,  9.99793224,  9.99601816,\n",
       "        9.99752887,  9.99726914,  9.99599422,  9.99709964,  9.99818926,\n",
       "       10.00609096, 10.00638704, 10.00168019, 10.00012709, 10.00165032,\n",
       "       10.00094186, 10.00120829, 10.00132366, 10.00005012,  9.99973109,\n",
       "        9.9998579 ,  9.99986127,  9.99893862, 10.00073507,  9.99537343,\n",
       "        9.99706779,  9.99802241,  9.99763397,  9.99787722,  9.9981506 ,\n",
       "        9.99876248,  9.99895481,  9.99764456,  9.99787534,  9.99828351,\n",
       "       10.00010021,  9.99879122,  9.99441955,  9.99382162,  9.99351987,\n",
       "        9.99247844,  9.99229199,  9.99324647,  9.99228169,  9.99281189,\n",
       "        9.99158757,  9.99160056,  9.99111779,  9.99161077,  9.99343202,\n",
       "        9.99161313,  9.99172295,  9.99157602,  9.99519861,  9.99554664,\n",
       "        9.9967249 ,  9.99580326,  9.99609759,  9.99511269,  9.99504551,\n",
       "        9.99584265,  9.99499307,  9.99541798,  9.99361944,  9.99416404,\n",
       "        9.99404487,  9.99392156,  9.99228474,  9.99422922,  9.99392637,\n",
       "        9.99491441,  9.99402547,  9.99415933,  9.99509606,  9.99387715,\n",
       "        9.99236004,  9.99380169,  9.99369435,  9.99350024,  9.99399003,\n",
       "        9.99388961,  9.99333276,  9.99375267,  9.99193772,  9.99301254,\n",
       "        9.99356115,  9.99331739,  9.99317117,  9.99376799,  9.99633097,\n",
       "        9.99558034,  9.99854989,  9.99934445,  9.99961325,  9.99956893,\n",
       "       10.00078489, 10.00056546,  9.99976313,  9.99976115,  9.99840871,\n",
       "        9.99916811, 10.00579748, 10.00694383, 10.00737882, 10.00751291,\n",
       "       10.00835515, 10.00749263, 10.00718736, 10.00616807, 10.00605847,\n",
       "       10.00703952,  9.99292746,  9.99368424,  9.99381137,  9.99360122,\n",
       "        9.9949081 ,  9.99447313,  9.99370581,  9.9936124 ,  9.99260384,\n",
       "        9.99314443,  9.99693922,  9.99813528,  9.99861724,  9.99843142,\n",
       "        9.99954424,  9.998792  ,  9.9981622 ,  9.99768195,  9.99708407,\n",
       "        9.9976995 ,  9.9982669 , 10.00310706,  9.99213638,  9.99549703,\n",
       "       10.00010884,  9.99825257, 10.00310029,  9.99796008, 10.00613009,\n",
       "       10.00600789, 10.00654723, 10.00688271, 10.0006908 , 10.0011706 ,\n",
       "       10.00051788, 10.00184233,  9.99975525, 10.00115487, 10.00313679,\n",
       "       10.00393022, 10.003053  , 10.00413194,  9.99828603,  9.99697682,\n",
       "        9.99792409,  9.99861962,  9.99172365,  9.99154095,  9.99142947,\n",
       "        9.99186049,  9.99172643,  9.99407438,  9.9943248 ,  9.99422867,\n",
       "        9.9924439 ,  9.9923085 ,  9.99405763,  9.99551067,  9.9962475 ,\n",
       "        9.99564999,  9.99462272,  9.99471213,  9.99466144,  9.99553077,\n",
       "        9.99472736,  9.99635101,  9.99601173,  9.99498372,  9.9955023 ,\n",
       "        9.99614139,  9.99542964,  9.99388794,  9.99515864,  9.99536281,\n",
       "       10.00097151,  9.99913451, 10.00710201, 10.00582679,  9.99471948,\n",
       "        9.99315083,  9.998742  ,  9.9972362 , 10.00260001, 10.00541556,\n",
       "        9.99907328,  9.99970693, 10.00534289, 10.00635399, 10.00051521,\n",
       "       10.00275458,  9.99610236,  9.99765424,  9.99175463,  9.99195297,\n",
       "        9.99175193,  9.99171365,  9.99140986,  9.99446563,  9.99287051,\n",
       "        9.99274217,  9.99587672,  9.99352191,  9.99336529,  9.99023779,\n",
       "        9.99288149,  9.99270796,  9.99561606,  9.994965  ,  9.99577873,\n",
       "        9.99635157,  9.99227137,  9.99411415, 10.00433388, 10.0048745 ,\n",
       "       10.00576556, 10.00619881, 10.00620859, 10.00580188, 10.00638895,\n",
       "       10.00570313, 10.00579643, 10.00245987, 10.0053086 , 10.00396662,\n",
       "        9.99614003,  9.99179835,  9.99197708,  9.99184523,  9.99752558,\n",
       "        9.99356475,  9.99414524,  9.99337207,  9.99392251,  9.99470644,\n",
       "        9.99059307,  9.99104744,  9.99201036,  9.99179869,  9.99181594,\n",
       "       10.00580647, 10.00622901, 10.00480726,  9.99641506,  9.99316177,\n",
       "        9.99162728,  9.9906814 ,  9.99298433,  9.99174566,  9.98915965,\n",
       "        9.99037908,  9.98958187,  9.99906907, 10.00149003,  9.99160285,\n",
       "        9.99461156,  9.9980815 ,  9.99291303,  9.99762749,  9.99718021,\n",
       "        9.99700205,  9.99696931,  9.99684148,  9.99731578,  9.99686304,\n",
       "        9.99786517,  9.99726137,  9.99626077,  9.9965786 ,  9.998132  ,\n",
       "        9.995287  ,  9.99665648,  9.99463081,  9.99425264,  9.99630442,\n",
       "        9.99483766,  9.9957566 ,  9.99234446,  9.9919633 ,  9.99040935,\n",
       "        9.99169841,  9.99552278,  9.99907555, 10.00048274,  9.99700055,\n",
       "        9.99663007,  9.99321368,  9.99512039,  9.99493733,  9.99250578,\n",
       "        9.99382837,  9.99388777,  9.99242205,  9.99453346,  9.99047226,\n",
       "        9.99492416,  9.99161593,  9.9966822 ,  9.99180876,  9.99021316,\n",
       "        9.99157566,  9.99145202,  9.99192909,  9.99187875,  9.99255525,\n",
       "        9.99203354,  9.99074995,  9.99367533,  9.99309761,  9.99171523,\n",
       "        9.99208057, 10.00604105, 10.00681341, 10.00660235, 10.0057304 ,\n",
       "       10.00706851, 10.00591281, 10.00578602, 10.00435855, 10.0046242 ,\n",
       "       10.0019374 , 10.00004045, 10.00041754, 10.00118197, 10.00068193,\n",
       "        9.99718755,  9.99566223,  9.99597069,  9.99639919,  9.99681687,\n",
       "        9.99879945,  9.9948935 ,  9.99497736,  9.99722783,  9.99443142,\n",
       "        9.99411348,  9.99463099,  9.99733941, 10.00564561, 10.00589197,\n",
       "        9.99558645,  9.99638017,  9.99627413,  9.99430922,  9.9931961 ,\n",
       "        9.99443015,  9.9935155 ,  9.99417297,  9.99215645,  9.99487848,\n",
       "        9.9928854 ,  9.99414898,  9.99482861,  9.99313222,  9.991591  ,\n",
       "        9.99486181,  9.99643115,  9.99428269,  9.99381765,  9.99270861,\n",
       "        9.99201219,  9.99262779,  9.99237828,  9.99385735,  9.98921559,\n",
       "        9.99105696,  9.9915115 ,  9.98997274,  9.98969398,  9.98991811,\n",
       "        9.98989982,  9.99091484,  9.99083032,  9.99057526,  9.99042403,\n",
       "        9.99046267,  9.99126099,  9.99175059,  9.99158028,  9.99174589,\n",
       "        9.9919894 ,  9.99203463,  9.99304724,  9.99346373,  9.99325889,\n",
       "        9.99491853,  9.99368887,  9.99439434, 10.00548265, 10.00417084,\n",
       "       10.00145298, 10.00514446,  9.99996274,  9.99888049, 10.00600734,\n",
       "        9.99919762,  9.99852756,  9.9956692 ,  9.99146169,  9.99037012,\n",
       "        9.99089719,  9.99083276,  9.99093441,  9.9904566 ,  9.99037025,\n",
       "        9.99536112,  9.99624826,  9.99708016,  9.99711816,  9.99640461,\n",
       "        9.9951484 , 10.00172764,  9.99592073,  9.99525731,  9.99765248,\n",
       "        9.99814449,  9.99738853,  9.99905039,  9.99139309,  9.9903416 ,\n",
       "        9.9913977 ,  9.99136375,  9.9911429 ,  9.99115198])"
      ]
     },
     "execution_count": 187,
     "metadata": {},
     "output_type": "execute_result"
    }
   ],
   "source": [
    "# Se aumenta la matriz laplaciana y el vector q\n",
    "A, qa = frontierCondition(L, q, frontier)\n",
    "\n",
    "# Se resuelve el sistema\n",
    "f = minimosCuadrados(A , qa)\n",
    "f"
   ]
  },
  {
   "cell_type": "markdown",
   "metadata": {
    "id": "YtOoRVI8vXjE"
   },
   "source": [
    "# Resultados\n"
   ]
  },
  {
   "cell_type": "markdown",
   "metadata": {
    "id": "tGRnXHtywY35"
   },
   "source": [
    "<h3>Comparación entre solucion numérica y teórica</h3>\n",
    "\n",
    "Se calculará el error de aproximación entre la solución teórica y la solución encontrada con la discretización."
   ]
  },
  {
   "cell_type": "code",
   "execution_count": 182,
   "metadata": {
    "colab": {
     "base_uri": "https://localhost:8080/"
    },
    "id": "eburpuQjvbx2",
    "outputId": "137eb324-8829-4a33-8c01-fcbf4bf319ae"
   },
   "outputs": [
    {
     "name": "stdout",
     "output_type": "stream",
     "text": [
      "Error de aproximacion: 73.76677068821262\n"
     ]
    }
   ],
   "source": [
    "# Funcion teorica que resuelve el sistema\n",
    "def solucionTeorica(p):\n",
    "  return (1-p[0]*p[0]-p[1]*p[1])/4 + 10\n",
    "\n",
    "# Diferencia entre solucion numerica y teorica\n",
    "def diferencia(f, v):\n",
    "  error=0\n",
    "  for i in range(len(f)):\n",
    "    error+=abs(f[i]-solucionTeorica(v[i]))\n",
    "  return error\n",
    "\n",
    "error=diferencia(f,v)\n",
    "print(\"Error de aproximacion: \" + str(error) )"
   ]
  },
  {
   "cell_type": "markdown",
   "metadata": {},
   "source": [
    "Solución teórica"
   ]
  },
  {
   "cell_type": "code",
   "execution_count": 190,
   "metadata": {},
   "outputs": [
    {
     "data": {
      "text/plain": [
       "array([10.        , 10.        , 10.        , 10.        , 10.        ,\n",
       "       10.        , 10.        , 10.        , 10.        , 10.        ,\n",
       "       10.        , 10.        , 10.        , 10.        , 10.        ,\n",
       "       10.        , 10.        , 10.        , 10.        , 10.        ,\n",
       "       10.        , 10.        , 10.        , 10.        , 10.        ,\n",
       "       10.        , 10.        , 10.        , 10.        , 10.        ,\n",
       "       10.        , 10.        , 10.        , 10.        , 10.        ,\n",
       "       10.        , 10.        , 10.        , 10.        , 10.        ,\n",
       "       10.        , 10.        , 10.        , 10.        , 10.        ,\n",
       "       10.        , 10.        , 10.        , 10.        , 10.        ,\n",
       "       10.        , 10.        , 10.        , 10.        , 10.        ,\n",
       "       10.        , 10.        , 10.        , 10.        , 10.        ,\n",
       "       10.        , 10.        , 10.        , 10.        , 10.        ,\n",
       "       10.        , 10.        , 10.        , 10.        , 10.        ,\n",
       "       10.        , 10.        , 10.10192073, 10.05322825, 10.10192077,\n",
       "       10.10192073, 10.05322827, 10.10192073, 10.05322825, 10.05322825,\n",
       "       10.08657241, 10.03422453, 10.03396156, 10.08657241, 10.08657241,\n",
       "       10.03422454, 10.03396157, 10.08657241, 10.03422453, 10.03396156,\n",
       "       10.03422453, 10.03396156, 10.04353119, 10.0435312 , 10.04353119,\n",
       "       10.04353119, 10.11223022, 10.11223021, 10.11223022, 10.11223022,\n",
       "       10.09356406, 10.09356406, 10.09356406, 10.09356406, 10.03360319,\n",
       "       10.07688686, 10.03360319, 10.07688686, 10.03360319, 10.07688686,\n",
       "       10.03360319, 10.07688686, 10.06314454, 10.06314451, 10.06314453,\n",
       "       10.0631445 , 10.06314454, 10.06314451, 10.06314454, 10.06314451,\n",
       "       10.07010985, 10.04758128, 10.07010985, 10.04758128, 10.07010985,\n",
       "       10.04758128, 10.07010985, 10.04758128, 10.06517829, 10.12331553,\n",
       "       10.0651783 , 10.1233155 , 10.06517829, 10.12331553, 10.06517829,\n",
       "       10.12331553, 10.02945807, 10.04500564, 10.04512617, 10.0936993 ,\n",
       "       10.06961306, 10.07170124, 10.09677071, 10.08027775, 10.14981551,\n",
       "       10.12223021, 10.13781661, 10.13160906, 10.1520532 , 10.14260701,\n",
       "       10.13409993, 10.10384113, 10.18137058, 10.1588722 , 10.09499361,\n",
       "       10.16943426, 10.21628088, 10.17900325, 10.17061274, 10.20000816,\n",
       "       10.1539688 , 10.18641841, 10.1992966 , 10.18881827, 10.21823732,\n",
       "       10.20782561, 10.1836603 , 10.17812237, 10.18571755, 10.20613495,\n",
       "       10.1553604 , 10.19336711, 10.19116986, 10.20645284, 10.17022328,\n",
       "       10.02945818, 10.04455979, 10.02945806, 10.04500564, 10.04512616,\n",
       "       10.09369929, 10.06961306, 10.07170124, 10.09677071, 10.08027774,\n",
       "       10.14981549, 10.1222302 , 10.13781659, 10.13160906, 10.15205319,\n",
       "       10.142607  , 10.13409991, 10.10384112, 10.18137055, 10.15887218,\n",
       "       10.0949936 , 10.16943423, 10.21628086, 10.19951389, 10.18741899,\n",
       "       10.02945818, 10.04455978, 10.02945807, 10.04500564, 10.04512617,\n",
       "       10.0936993 , 10.06961306, 10.07170124, 10.09677071, 10.08027775,\n",
       "       10.14981551, 10.12223021, 10.13781661, 10.13160906, 10.14952713,\n",
       "       10.18812152, 10.13974599, 10.1669896 , 10.02945818, 10.04455979,\n",
       "       10.02945807, 10.04500564, 10.04512617, 10.0936993 , 10.06961306,\n",
       "       10.07170124, 10.09677071, 10.08027775, 10.14981551, 10.12223021,\n",
       "       10.13781661, 10.13160906, 10.1520532 , 10.14260701, 10.13409993,\n",
       "       10.10384113, 10.18137058, 10.1588722 , 10.09499361, 10.16943426,\n",
       "       10.21628088, 10.17900325, 10.17061274, 10.20000816, 10.1539688 ,\n",
       "       10.18641841, 10.1992966 , 10.18881827, 10.21823732, 10.20782561,\n",
       "       10.19132829, 10.20312277, 10.20675832, 10.18469454, 10.02945818,\n",
       "       10.04455979, 10.04309254, 10.0336412 , 10.05089288, 10.07099263,\n",
       "       10.02957125, 10.03563653, 10.07043779, 10.05951497, 10.11130333,\n",
       "       10.09564845, 10.04309254, 10.0336412 , 10.05089288, 10.07099263,\n",
       "       10.02957125, 10.03563653, 10.07043779, 10.05951497, 10.11130332,\n",
       "       10.09564844, 10.04309254, 10.0336412 , 10.05089288, 10.07099263,\n",
       "       10.02957125, 10.03563653, 10.07043779, 10.05951497, 10.11130333,\n",
       "       10.09564845, 10.04309254, 10.0336412 , 10.05089288, 10.07099263,\n",
       "       10.02957125, 10.03563653, 10.07043779, 10.05951497, 10.11130333,\n",
       "       10.09564845, 10.09895848, 10.09895846, 10.09895848, 10.09895848,\n",
       "       10.10901307, 10.12655452, 10.19818941, 10.22664511, 10.07554493,\n",
       "       10.07021814, 10.06579331, 10.03240656, 10.10901307, 10.12655457,\n",
       "       10.17167732, 10.15008819, 10.17618744, 10.15183685, 10.18111615,\n",
       "       10.14476499, 10.14102478, 10.11752099, 10.07554492, 10.07021813,\n",
       "       10.06579331, 10.03240655, 10.10901307, 10.1823395 , 10.12655452,\n",
       "       10.15801981, 10.15142394, 10.09992455, 10.10901307, 10.12655452,\n",
       "       10.19818941, 10.22664511, 10.18367615, 10.14764772, 10.12487077,\n",
       "       10.15138228, 10.17090145, 10.1711545 , 10.16078197, 10.14984089,\n",
       "       10.17138786, 10.13440402, 10.12031917, 10.16344014, 10.13142003,\n",
       "       10.1159262 , 10.07554493, 10.07021814, 10.06579331, 10.03240656,\n",
       "       10.02741495, 10.08796317, 10.02741495, 10.08796317, 10.02741495,\n",
       "       10.08796317, 10.02741495, 10.08796317, 10.19638085, 10.17243571,\n",
       "       10.21460362, 10.21950154, 10.08397859, 10.03459242, 10.1592845 ,\n",
       "       10.20485894, 10.08397859, 10.03459242, 10.19167337, 10.15195623,\n",
       "       10.17173121, 10.18127557, 10.15655589, 10.07445478, 10.10023507,\n",
       "       10.11990194, 10.09800878, 10.19638085, 10.17243571, 10.19923657,\n",
       "       10.21460362, 10.21950154, 10.1410195 , 10.14383716, 10.1361843 ,\n",
       "       10.10246566, 10.08397859, 10.03459242, 10.18455815, 10.16092025,\n",
       "       10.15355101, 10.11803116, 10.0948706 , 10.1284303 , 10.09870403,\n",
       "       10.10335947, 10.12856206, 10.20852723, 10.1839506 , 10.19821424,\n",
       "       10.1143472 , 10.1846098 , 10.14460663, 10.16609535, 10.07565288,\n",
       "       10.18455815, 10.16092025, 10.15355101, 10.11803116, 10.0948706 ,\n",
       "       10.20738693, 10.1284303 , 10.09870403, 10.10335947, 10.12856206,\n",
       "       10.09832911, 10.13248694, 10.18732232, 10.09241647, 10.09832911,\n",
       "       10.20893648, 10.18783837, 10.13248694, 10.17065287, 10.16900779,\n",
       "       10.15164968, 10.19070699, 10.07818464, 10.07818467, 10.07818464,\n",
       "       10.07818464, 10.14582676, 10.23553865, 10.11813861, 10.14158561,\n",
       "       10.16091499, 10.15788692, 10.17473574, 10.1313716 , 10.12453309,\n",
       "       10.09751214, 10.13704697, 10.1566753 , 10.10439979, 10.11476866,\n",
       "       10.13478354, 10.16760425, 10.17542162, 10.12101018, 10.1387469 ,\n",
       "       10.15564906, 10.17306594, 10.11813861, 10.13706476, 10.15218625,\n",
       "       10.13334321, 10.24334733, 10.22899324, 10.22150256, 10.23416274,\n",
       "       10.23798199, 10.24451953, 10.24040833, 10.24415746, 10.24986104,\n",
       "       10.24639649, 10.24854413, 10.24894965, 10.24432224, 10.23924042,\n",
       "       10.24632649, 10.24723841, 10.23522703, 10.24319713, 10.2355124 ,\n",
       "       10.24438808, 10.24345806, 10.24779913, 10.23661015, 10.24627791,\n",
       "       10.24766154, 10.24208506, 10.24832633, 10.24255301, 10.23690661,\n",
       "       10.24286   , 10.1459204 , 10.12040049, 10.13330267, 10.16624188,\n",
       "       10.11202325, 10.15220752, 10.17094122, 10.18710273, 10.17791956,\n",
       "       10.19823089, 10.20085996, 10.21765812, 10.2178172 , 10.20802606,\n",
       "       10.23241943, 10.23991594, 10.22975007, 10.21782352, 10.20672105,\n",
       "       10.22782301, 10.23039548, 10.2379769 , 10.20863879, 10.21982669,\n",
       "       10.22901361, 10.1523107 , 10.08876397, 10.12363573, 10.1703024 ,\n",
       "       10.11286899, 10.13545523, 10.11126881, 10.12363573, 10.21644043,\n",
       "       10.20728961, 10.198167  , 10.23002513, 10.20293126, 10.19580224,\n",
       "       10.23643452, 10.22076004, 10.21866567, 10.22760995, 10.22210359,\n",
       "       10.22724762, 10.2271447 , 10.23766317, 10.23872509, 10.18187731,\n",
       "       10.16406642, 10.24235172, 10.21518774, 10.16789285, 10.1814381 ,\n",
       "       10.12888058, 10.12126277, 10.15134734, 10.17688202, 10.16044034,\n",
       "       10.18957584, 10.21121616, 10.19871559, 10.22966238, 10.23552314,\n",
       "       10.22699592, 10.23628947, 10.22942252, 10.22254505, 10.22998192,\n",
       "       10.23629799, 10.22839276, 10.21210449, 10.20318317, 10.21898153,\n",
       "       10.1957557 , 10.20521279, 10.18938323, 10.13579447, 10.16093289,\n",
       "       10.17259079, 10.1651716 , 10.1911342 , 10.20477091, 10.15444733,\n",
       "       10.1902313 , 10.2207642 , 10.22000613, 10.23195904, 10.1633249 ,\n",
       "       10.21779953, 10.20591829, 10.22058367, 10.22979585, 10.21242468,\n",
       "       10.20602015, 10.18546334, 10.19386043, 10.16608496, 10.15707952,\n",
       "       10.1755052 , 10.18525594, 10.06759937, 10.09546147, 10.05946222,\n",
       "       10.0357678 , 10.02895303, 10.02993662, 10.20620384, 10.21993571,\n",
       "       10.20727879, 10.21740182, 10.20125198, 10.19441938])"
      ]
     },
     "execution_count": 190,
     "metadata": {},
     "output_type": "execute_result"
    }
   ],
   "source": [
    "sol_teo = np.array([solucionTeorica(p) for p in v])\n",
    "sol_teo"
   ]
  },
  {
   "cell_type": "markdown",
   "metadata": {},
   "source": [
    "Multiplicación de la matriz Laplaciana multiplicada por el vector que representa a la solución teórica $\\Delta f$."
   ]
  },
  {
   "cell_type": "code",
   "execution_count": 191,
   "metadata": {},
   "outputs": [
    {
     "data": {
      "text/plain": [
       "array([10.71182945, 11.68318315, 12.78913486, 12.74229989, 12.74224563,\n",
       "       12.51247683, 12.24755882, 14.1853737 , 12.09932499, 12.18822154,\n",
       "       11.90574664, 16.0047564 , 10.71371638, 15.15796104, 13.458452  ,\n",
       "       12.29647719, 13.73960319, 10.27049158, 10.71183942, 11.68318455,\n",
       "       12.78913294, 12.74229816, 12.7422439 , 12.51247503, 12.24755616,\n",
       "       14.18537311, 12.09932572, 12.18822154, 11.90574664, 16.0047564 ,\n",
       "       10.71371638, 15.15796104, 13.458452  , 12.29647719, 13.73960319,\n",
       "       10.27049158, 10.71183942, 11.68318455, 12.78913294, 12.74229816,\n",
       "       12.7422439 , 12.51247503, 13.00261671, 14.64965685, 12.64063061,\n",
       "       12.18822154, 11.90574664, 16.0047564 , 10.71371638, 15.15796104,\n",
       "       13.458452  , 12.29647719, 13.73960319, 10.27049158, 10.71183942,\n",
       "       11.68318455, 12.78913294, 12.74229816, 12.7422439 , 12.51247503,\n",
       "       12.24755616, 14.18537312, 12.09932573, 12.18822159, 11.90574671,\n",
       "       16.00475649, 10.7137164 , 15.15796103, 13.45845136, 12.29647667,\n",
       "       13.73960053, 10.2704843 , -0.64555131, -0.94680364, -0.64555215,\n",
       "       -0.64555131, -0.94680318, -0.64555131, -0.94680364, -0.94680364,\n",
       "       -0.90031031, -1.        , -0.99056749, -0.89960041, -0.90031031,\n",
       "       -1.        , -0.99056741, -0.90256342, -1.        , -0.99056749,\n",
       "       -1.        , -0.99056749, -0.95857044, -0.95857022, -0.95857044,\n",
       "       -0.95857044, -0.99752608, -0.99752605, -0.91206384, -0.99752608,\n",
       "       -0.92653816, -0.96547854, -1.        , -1.        , -0.96797506,\n",
       "       -0.76036911, -0.96797532, -0.76036851, -0.96797506, -0.76036911,\n",
       "       -0.96797506, -0.76036911, -1.        , -1.        , -1.        ,\n",
       "       -1.        , -1.        , -1.        , -1.        , -1.        ,\n",
       "       -1.        , -1.        , -1.        , -1.        , -1.        ,\n",
       "       -1.        , -1.        , -1.        , -1.        , -0.70857867,\n",
       "       -1.        , -0.77471768, -1.        , -0.76678892, -1.        ,\n",
       "       -0.77009458, -1.        , -1.        , -1.        , -1.        ,\n",
       "       -1.        , -1.        , -1.        , -1.        , -0.97588978,\n",
       "       -0.99785785, -1.        , -0.98255972, -0.95151941, -1.        ,\n",
       "       -0.78220819, -1.        , -1.        , -1.        , -0.87449376,\n",
       "       -1.        , -0.98756022, -1.        , -1.        , -0.98637356,\n",
       "       -0.97526028, -1.        , -1.        , -1.        , -0.97660552,\n",
       "       -0.84307108, -1.        , -1.        , -0.91720083, -0.89959734,\n",
       "       -0.86347646, -1.        , -0.95903284, -0.89065076, -0.86788464,\n",
       "       -1.        , -1.        , -1.        , -1.        , -1.        ,\n",
       "       -1.        , -1.        , -1.        , -1.        , -1.        ,\n",
       "       -1.        , -0.99785783, -1.        , -0.98019668, -0.98603567,\n",
       "       -0.96016672, -0.88626767, -1.        , -0.96317821, -1.        ,\n",
       "       -0.87449379, -1.        , -0.99366614, -0.85781945, -0.90866013,\n",
       "       -1.        , -1.        , -1.        , -1.        , -1.        ,\n",
       "       -1.        , -1.        , -1.        , -1.        , -1.        ,\n",
       "       -0.96164068, -0.99785785, -0.83296788, -0.86280556, -0.95672316,\n",
       "       -1.        , -0.84295206, -0.98068329, -1.        , -0.94690347,\n",
       "       -1.        , -1.        , -1.        , -1.        , -1.        ,\n",
       "       -1.        , -1.        , -1.        , -0.97588978, -0.99785785,\n",
       "       -1.        , -0.98255972, -0.95173025, -1.        , -0.78220819,\n",
       "       -1.        , -1.        , -1.        , -0.87449376, -1.        ,\n",
       "       -0.98904004, -1.        , -1.        , -0.98637356, -0.97489985,\n",
       "       -1.        , -1.        , -1.        , -0.89404321, -0.84307109,\n",
       "       -0.8895153 , -1.        , -1.        , -1.        , -1.        ,\n",
       "       -1.        , -0.91237113, -1.        , -0.92673381, -1.        ,\n",
       "       -0.96479889, -1.        , -1.        , -0.95314345, -1.        ,\n",
       "       -1.        , -1.        , -1.        , -0.93818568, -1.        ,\n",
       "       -0.96479888, -1.        , -1.        , -0.95314334, -1.        ,\n",
       "       -1.        , -1.        , -1.        , -0.93818566, -1.        ,\n",
       "       -0.96479889, -1.        , -1.        , -0.95314345, -1.        ,\n",
       "       -1.        , -1.        , -1.        , -1.        , -1.        ,\n",
       "       -0.96479889, -1.        , -1.        , -0.95314345, -1.        ,\n",
       "       -1.        , -1.        , -1.        , -1.        , -1.        ,\n",
       "       -1.        , -1.        , -0.86252245, -0.86960457, -1.        ,\n",
       "       -1.        , -1.        , -1.        , -1.        , -1.        ,\n",
       "       -1.        , -1.        , -1.        , -1.        , -0.85132865,\n",
       "       -1.        , -1.        , -1.        , -0.98180532, -0.91797518,\n",
       "       -1.        , -1.        , -1.        , -0.93268286, -0.98714033,\n",
       "       -0.8481727 , -1.        , -0.89113915, -1.        , -1.        ,\n",
       "       -0.80157993, -1.        , -0.9959944 , -0.88330526, -1.        ,\n",
       "       -1.        , -1.        , -1.        , -1.        , -0.99592163,\n",
       "       -0.9922118 , -1.        , -1.        , -0.92641444, -0.92646118,\n",
       "       -0.84071592, -1.        , -1.        , -1.        , -1.        ,\n",
       "       -1.        , -1.        , -1.        , -1.        , -1.        ,\n",
       "       -1.        , -1.        , -1.        , -1.        , -1.        ,\n",
       "       -1.        , -1.        , -0.98906036, -0.98824194, -1.        ,\n",
       "       -0.97714148, -0.91710424, -0.988242  , -1.        , -1.        ,\n",
       "       -0.94541785, -0.96008655, -0.76195167, -1.        , -1.        ,\n",
       "       -0.89784688, -0.94668471, -1.        , -0.99731749, -1.        ,\n",
       "       -1.        , -1.        , -1.        , -1.        , -0.93610257,\n",
       "       -1.        , -0.98906036, -0.98824194, -0.99247156, -0.97066957,\n",
       "       -0.96144176, -1.        , -1.        , -0.95708348, -0.91814912,\n",
       "       -1.        , -0.96296271, -0.99431785, -1.        , -1.        ,\n",
       "       -0.9845808 , -1.        , -1.        , -0.9499147 , -1.        ,\n",
       "       -0.99314008, -0.97066958, -0.96163874, -1.        , -1.        ,\n",
       "       -1.        , -1.        , -0.94330741, -1.        , -0.96250818,\n",
       "       -1.        , -0.9568313 , -1.        , -0.82388644, -1.        ,\n",
       "       -1.        , -0.88818147, -0.95683131, -0.87377484, -0.89760021,\n",
       "       -0.87417355, -1.        , -0.98883084, -0.98883076, -0.98883084,\n",
       "       -0.98883084, -1.        , -0.89102014, -1.        , -1.        ,\n",
       "       -0.76167083, -0.98469773, -0.93234865, -0.94730958, -0.86101898,\n",
       "       -0.93322582, -0.96952483, -0.85270613, -1.        , -1.        ,\n",
       "       -0.95347818, -0.96434772, -0.97874184, -1.        , -0.96363078,\n",
       "       -0.96661893, -0.94779106, -1.        , -0.92032084, -0.79310361,\n",
       "       -0.96982235, -1.        , -1.        , -1.        , -0.9062148 ,\n",
       "       -0.89528435, -0.87020183, -1.        , -1.        , -0.95205173,\n",
       "       -0.99683085, -1.        , -0.90602364, -1.        , -0.91749624,\n",
       "       -1.        , -1.        , -0.97831354, -0.84876267, -0.82208398,\n",
       "       -0.78894164, -1.        , -1.        , -1.        , -0.84093634,\n",
       "       -0.94914541, -0.96351115, -1.        , -0.89779703, -1.        ,\n",
       "       -0.87523797, -1.        , -1.        , -1.        , -1.        ,\n",
       "       -1.        , -1.        , -1.        , -1.        , -1.        ,\n",
       "       -0.82011316, -0.71855175, -0.9399482 , -1.        , -1.        ,\n",
       "       -1.        , -1.        , -1.        , -0.95911358, -1.        ,\n",
       "       -0.86668869, -0.87950212, -0.98911147, -0.964687  , -0.87346241,\n",
       "       -0.7641642 , -0.76739595, -1.        , -0.87247883, -1.        ,\n",
       "       -0.82879569, -1.        , -0.82334315, -0.87247883, -0.95933307,\n",
       "       -0.93641665, -0.93865187, -0.94331241, -0.96626204, -0.89513124,\n",
       "       -0.93039719, -1.        , -1.        , -0.93009226, -0.79969809,\n",
       "       -0.83473323, -0.93918783, -0.95606061, -1.        , -0.9826709 ,\n",
       "       -0.98979373, -0.71968178, -0.92473155, -1.        , -0.6586994 ,\n",
       "       -1.        , -1.        , -0.97835735, -0.99914951, -0.82876112,\n",
       "       -0.8173271 , -1.        , -1.        , -1.        , -0.90270612,\n",
       "       -0.99045801, -1.        , -1.        , -1.        , -1.        ,\n",
       "       -0.97963021, -0.91979573, -0.93354713, -1.        , -0.8732126 ,\n",
       "       -1.        , -0.83168367, -1.        , -1.        , -1.        ,\n",
       "       -1.        , -1.        , -1.        , -0.79628433, -0.94118994,\n",
       "       -0.92248385, -0.96302193, -1.        , -0.80203705, -0.90724568,\n",
       "       -1.        , -0.94115719, -0.94468641, -0.96683366, -0.9671363 ,\n",
       "       -0.93858288, -0.93492373, -0.92409418, -1.        , -0.95975285,\n",
       "       -0.96740428, -1.        , -0.86340003, -1.        , -1.        ,\n",
       "       -1.        , -1.        , -1.        , -0.95649935, -1.        ,\n",
       "       -1.        , -1.        , -1.        , -1.        ])"
      ]
     },
     "execution_count": 191,
     "metadata": {},
     "output_type": "execute_result"
    }
   ],
   "source": [
    "L @ sol_teo"
   ]
  },
  {
   "cell_type": "markdown",
   "metadata": {},
   "source": [
    "Multiplicación de la matriz del Laplaciano por la solución encontrada"
   ]
  },
  {
   "cell_type": "code",
   "execution_count": 192,
   "metadata": {},
   "outputs": [
    {
     "data": {
      "text/plain": [
       "array([-4.21263181e-01, -4.00037898e-01, -4.34063077e-01, -4.32156056e-01,\n",
       "       -4.32178599e-01, -4.22553966e-01, -4.11048883e-01, -4.86261840e-01,\n",
       "       -4.04560562e-01, -4.08775221e-01, -3.96229597e-01, -5.42361625e-01,\n",
       "       -3.34706576e-01, -5.22088477e-01, -4.71422314e-01, -4.37198466e-01,\n",
       "       -5.13884478e-01, -4.16812395e-01, -4.21538566e-01, -4.00314108e-01,\n",
       "       -4.34314854e-01, -4.32399304e-01, -4.32412299e-01, -4.22781858e-01,\n",
       "       -4.11271793e-01, -4.86448697e-01, -4.04768265e-01, -4.08970635e-01,\n",
       "       -3.96410722e-01, -5.42496095e-01, -3.34883930e-01, -5.22214280e-01,\n",
       "       -4.71553183e-01, -4.37326410e-01, -5.13984074e-01, -4.16918058e-01,\n",
       "       -4.21629291e-01, -4.00388194e-01, -4.34363316e-01, -4.32424505e-01,\n",
       "       -4.32411397e-01, -4.22751322e-01, -4.38309570e-01, -5.01600299e-01,\n",
       "       -4.21156930e-01, -4.08818004e-01, -3.96242438e-01, -5.42345001e-01,\n",
       "       -3.34647561e-01, -5.22016293e-01, -4.71311206e-01, -4.37047207e-01,\n",
       "       -5.13725942e-01, -4.16590660e-01, -4.21293089e-01, -4.00029750e-01,\n",
       "       -4.34017548e-01, -4.32073241e-01, -4.32061011e-01, -4.22402171e-01,\n",
       "       -4.10866006e-01, -4.86083014e-01, -4.04337437e-01, -4.08545137e-01,\n",
       "       -3.96002487e-01, -5.42173128e-01, -3.34435183e-01, -5.21872768e-01,\n",
       "       -4.71173868e-01, -4.36928699e-01, -5.13649689e-01, -4.16530962e-01,\n",
       "        5.81603808e-01,  1.43457047e-01,  5.81689824e-01,  5.80900563e-01,\n",
       "        1.43531724e-01,  5.81102017e-01,  1.42877406e-01,  1.43044591e-01,\n",
       "        1.80113981e-02,  9.50834485e-02,  1.54047129e-01,  1.10009137e-02,\n",
       "        1.76091807e-02,  9.51023019e-02,  1.54182179e-01,  4.13433068e-02,\n",
       "        9.44833197e-02,  1.53459931e-01,  9.46228842e-02,  1.53665008e-01,\n",
       "        1.90616309e-01,  1.90863639e-01,  1.90095028e-01,  1.90352544e-01,\n",
       "       -4.16385898e-02, -4.17485122e-02,  3.16346890e-01, -4.20756464e-02,\n",
       "       -1.34462691e-01, -2.25443634e-01, -7.09018191e-02, -7.14737434e-02,\n",
       "        6.10092505e-02,  3.21250423e-01,  6.11874183e-02,  3.21415705e-01,\n",
       "        6.05005050e-02,  3.20661473e-01,  6.07141162e-02,  3.20886091e-01,\n",
       "       -6.60586108e-02,  4.33357692e-02, -6.61428800e-02,  4.31388683e-02,\n",
       "       -6.65548063e-02,  8.02584369e-02, -6.65088061e-02,  4.27555121e-02,\n",
       "        1.51897906e-01, -5.88094827e-02,  2.20531478e-01, -5.85069136e-02,\n",
       "        2.19779972e-01, -5.91114679e-02,  1.02594727e-01, -5.88629493e-02,\n",
       "       -1.67814369e-01,  3.97949872e-01, -1.67674533e-01,  1.49407821e-01,\n",
       "       -1.68176798e-01,  1.09788375e-01, -1.68015584e-01,  1.25919277e-01,\n",
       "        6.42336586e-03,  2.34620063e-01,  1.28627719e-01, -1.45218805e-01,\n",
       "        1.41430395e-01, -2.25620339e-01,  4.38111454e-02, -2.84723738e-02,\n",
       "        1.72231888e-01,  1.06742120e-01,  3.36612982e-02,  9.11155300e-02,\n",
       "       -1.63679442e-01, -2.21230345e-01,  2.35961281e-01, -9.58788410e-02,\n",
       "       -2.19018008e-01, -1.01390550e-01, -1.01348047e-02, -1.78330817e-02,\n",
       "        2.88634110e-02, -1.12355358e-01,  8.66686961e-02, -6.06875773e-02,\n",
       "        1.42349640e-01, -2.18018988e-01, -1.51398578e-03, -4.57021394e-02,\n",
       "        7.92230304e-02,  4.25166680e-02, -2.12229895e-01, -1.88488349e-01,\n",
       "       -3.97133810e-02,  9.64076363e-02,  8.75296700e-02, -2.55007862e-01,\n",
       "        1.37377053e-01, -1.81470227e-02, -4.07205313e-02,  5.58097192e-02,\n",
       "        1.19569224e-01,  6.31998737e-03,  2.34433121e-01,  1.28580314e-01,\n",
       "       -1.45237376e-01,  1.41446398e-01, -2.25656874e-01,  4.37316970e-02,\n",
       "       -2.85978609e-02, -4.43202571e-02,  1.06700046e-01,  3.35815668e-02,\n",
       "       -3.90751050e-02,  8.66935481e-02,  9.26060166e-02,  9.21600392e-02,\n",
       "        5.23886052e-02, -1.03569055e-01, -1.19480871e-02, -1.02872282e-02,\n",
       "       -6.49509456e-02,  1.18985574e-01,  1.40047673e-01, -4.77850070e-03,\n",
       "        5.55840654e-02,  1.19286547e-01,  5.84256363e-03,  2.33932115e-01,\n",
       "        1.28008896e-01, -1.45629105e-01,  1.40856234e-01, -2.26018772e-01,\n",
       "        4.33062084e-02,  1.03754180e-01,  2.77352748e-02,  1.06251673e-01,\n",
       "        2.68568353e-01,  4.68293251e-02,  1.66381407e-01,  1.83174450e-01,\n",
       "        2.93145239e-01,  7.45102877e-02,  5.52059273e-02,  2.25654768e-01,\n",
       "        5.90038179e-03,  2.33948300e-01,  1.28109414e-01, -1.45557649e-01,\n",
       "        1.40985667e-01, -2.25960762e-01,  4.33522976e-02, -2.89555648e-02,\n",
       "        1.71839524e-01,  1.06321567e-01,  3.32514032e-02,  9.07731264e-02,\n",
       "       -1.60414398e-01, -2.21593969e-01,  2.35415707e-01, -9.63448035e-02,\n",
       "       -2.19277322e-01, -1.01734352e-01, -1.06325366e-02, -1.81516313e-02,\n",
       "        1.67626990e-01,  6.16264289e-02,  8.63741941e-02, -6.08955078e-02,\n",
       "        1.25663890e-01, -2.18199864e-01,  1.98515896e-02, -4.59684906e-02,\n",
       "        4.86186383e-02,  4.22568920e-02,  2.48600933e-01, -1.96891381e-02,\n",
       "       -1.60371439e-01,  1.36886417e-01,  5.51749295e-02,  1.18880540e-01,\n",
       "        1.06383715e-01,  1.06797376e-01,  3.84576488e-02, -1.55628668e-01,\n",
       "       -1.17305510e-01,  1.10940696e-01, -1.11514758e-02,  1.13140752e-01,\n",
       "       -5.92102250e-02, -1.79785470e-01,  3.35910549e-01,  1.07249323e-01,\n",
       "        2.67625434e-02, -1.28287923e-01, -1.16991351e-01,  1.11263929e-01,\n",
       "       -1.08771699e-02,  1.13410122e-01, -1.55912485e-01, -2.57084879e-01,\n",
       "        3.35033773e-01,  1.06516360e-01,  2.61051922e-02, -1.28822449e-01,\n",
       "       -1.17578851e-01,  1.10534269e-01, -1.14830299e-02,  1.12711688e-01,\n",
       "       -1.23937157e-01, -1.87348290e-01,  3.35459319e-01,  1.06852214e-01,\n",
       "       -6.31218678e-02, -2.20058806e-01, -1.17330535e-01,  1.10814837e-01,\n",
       "       -1.12441998e-02,  1.12965402e-01, -1.76336141e-01, -2.20885844e-01,\n",
       "       -5.94627031e-02, -6.63815506e-02, -5.98438476e-02, -4.65261701e-02,\n",
       "       -1.55979595e-01, -1.99205029e-02,  6.40524055e-03, -7.68425659e-02,\n",
       "       -1.56748059e-01,  9.62891760e-02, -2.17796539e-01,  2.29054221e-02,\n",
       "       -1.55968524e-01, -1.34730481e-02,  3.54995179e-02, -3.88405732e-02,\n",
       "       -1.38968436e-01, -2.06607276e-01,  2.21978265e-02, -6.92408643e-02,\n",
       "       -2.18745073e-01,  4.43975575e-02, -3.91935573e-02,  1.64314536e-01,\n",
       "       -6.20279378e-02,  2.26004407e-02, -1.56359463e-01, -8.33897853e-02,\n",
       "       -2.49719865e-02,  2.05790759e-04, -1.53807035e-01,  2.26323774e-02,\n",
       "       -1.56273816e-01, -5.47918688e-02,  6.91172249e-02,  2.46259277e-02,\n",
       "        5.96432658e-02, -6.95703379e-04,  1.19041644e-01, -1.41745028e-01,\n",
       "        1.60637326e-02, -7.58743902e-02,  1.23938431e-02,  4.07370966e-02,\n",
       "       -2.05220389e-02, -1.89834807e-01,  4.04320369e-02, -4.30757715e-02,\n",
       "       -1.82492827e-02,  1.85362682e-01, -1.57223571e-01,  9.56266750e-02,\n",
       "       -2.18263534e-01,  2.22367070e-02, -7.10924543e-02, -8.63159502e-02,\n",
       "       -7.08499400e-02, -8.67947247e-02, -7.14775724e-02, -8.66484830e-02,\n",
       "       -7.12524815e-02, -7.84462812e-02, -2.95769637e-01, -3.56438638e-01,\n",
       "       -5.92555420e-02, -2.33449244e-01,  2.56275071e-01,  1.68889703e-01,\n",
       "       -2.63946969e-01, -1.00036916e-01,  2.22196429e-01,  1.68509058e-01,\n",
       "       -1.08591887e-01, -2.32233237e-01, -8.02421690e-03, -3.82957181e-02,\n",
       "        1.92854914e-03, -3.65483834e-03,  7.43130617e-02,  1.09996721e-01,\n",
       "        1.49403467e-01, -2.95978707e-01, -2.67036361e-01, -6.04406258e-02,\n",
       "       -4.65033364e-02, -2.80367039e-01, -2.48179631e-01, -3.12229520e-01,\n",
       "       -1.43148806e-01, -2.29876192e-02,  2.55530587e-01,  1.68112427e-01,\n",
       "       -3.52973415e-01, -2.29195875e-01, -8.91443915e-02, -1.95983685e-01,\n",
       "       -1.13559859e-01,  1.76040694e-01,  1.02063490e-01,  6.88371766e-02,\n",
       "        9.47501173e-02, -6.40233792e-02, -2.95667132e-01, -2.73039992e-01,\n",
       "       -1.58316080e-02, -1.24094803e-01, -2.54776939e-01, -2.33629078e-01,\n",
       "       -1.02712212e-01, -2.90167534e-01, -2.29511037e-01, -8.48776739e-02,\n",
       "       -1.96402362e-01, -1.14047669e-01,  7.82966014e-02,  9.83986408e-02,\n",
       "        1.18834609e-01,  6.82338382e-02,  8.09201364e-02,  3.76359480e-02,\n",
       "       -1.86399461e-01, -2.40043704e-01, -3.52091412e-02,  3.70523979e-02,\n",
       "       -8.04973092e-02,  3.26922293e-01, -1.86807384e-01,  7.93943864e-02,\n",
       "        4.29727179e-01,  2.75606712e-01,  2.66340386e-01, -2.53976547e-02,\n",
       "       -2.53179820e-02, -2.58521907e-02, -2.57084019e-02, -1.40218882e-01,\n",
       "        2.14511704e-01,  1.81807459e-01,  1.47418373e-01,  1.94031435e-01,\n",
       "        2.20488547e-03, -6.88694563e-02,  2.06756052e-01,  5.82716591e-02,\n",
       "        1.39413009e-01, -4.13326370e-02, -1.45997638e-03,  1.34535398e-01,\n",
       "       -1.97985850e-01,  8.50627064e-02, -1.80550518e-01, -1.02749055e-01,\n",
       "        1.45371035e-01, -1.70449724e-01, -9.62200959e-02, -1.82956509e-01,\n",
       "       -1.04284021e-01, -1.64513575e-01,  1.52781990e-01, -5.85858459e-02,\n",
       "        5.94850445e-02, -1.39877839e-01, -1.15324430e-01,  2.83527394e-01,\n",
       "        1.73687084e-01,  3.75831367e-02,  5.62610445e-02,  1.37264381e-01,\n",
       "        1.55926743e-01,  8.45228028e-02,  1.11399279e-01,  1.88781415e-01,\n",
       "       -2.01791716e-01,  2.47746778e-01, -2.47701883e-01,  1.70894717e-02,\n",
       "       -9.98238797e-02,  7.58309508e-02,  4.13722913e-01,  1.67378761e-01,\n",
       "        2.24461466e-02,  2.52494570e-02, -6.58626036e-02,  1.17405122e-01,\n",
       "       -2.05631181e-01,  9.98422813e-02, -1.64633376e-01,  1.16815087e-01,\n",
       "        1.99797898e-01, -1.65330265e-02, -2.49497922e-01, -1.87664633e-01,\n",
       "       -2.38518423e-01, -1.75336756e-01, -3.39410625e-01, -4.12512484e-02,\n",
       "       -2.23434397e-01, -7.82837447e-02, -2.11275128e-01,  2.51481374e-01,\n",
       "        2.09167352e-01, -1.33732212e-01, -2.15505295e-01, -1.80110369e-01,\n",
       "        8.29079538e-02, -3.50954326e-03,  2.15200250e-01,  2.07584520e-01,\n",
       "       -2.15615164e-01, -7.80419066e-02,  9.84614060e-02, -3.08857048e-02,\n",
       "       -2.04626238e-01,  1.33164648e-03, -4.98585368e-05,  3.36814471e-01,\n",
       "       -1.07045545e-01, -2.36164990e-03, -2.66675003e-01,  2.16271519e-01,\n",
       "       -8.79828757e-02,  3.52028172e-01, -2.85974956e-03, -2.32345652e-02,\n",
       "        1.67380155e-01,  2.09866832e-01,  1.16167273e-02,  1.77326405e-01,\n",
       "       -1.48932680e-01, -1.76123813e-01, -1.58417160e-01,  6.72823639e-02,\n",
       "       -7.95961656e-03,  9.29084524e-02,  3.15719656e-01,  5.88687368e-02,\n",
       "        9.93708477e-02, -2.67474640e-01,  1.00649838e-01,  1.70123556e-01,\n",
       "       -4.28314121e-02, -1.09917639e-01, -2.87170796e-01,  5.78461919e-01,\n",
       "        2.05774631e-01, -9.47087832e-02,  1.63254916e-01,  7.49431107e-02,\n",
       "        1.10574328e-01,  4.10904199e-02, -2.59030993e-03, -2.80607072e-01,\n",
       "        2.16692594e-02,  5.80661717e-02,  2.62250488e-01, -1.11231626e-01,\n",
       "       -7.55829807e-02,  3.68122496e-01,  1.30609978e-01, -6.17107982e-02,\n",
       "        2.58679678e-01,  4.50117285e-02, -1.56333952e-01,  6.37108524e-02,\n",
       "       -5.42465273e-02,  1.44902853e-01, -2.95023253e-02, -1.30404807e-01,\n",
       "       -4.29082937e-02,  2.22418094e-01, -3.58143020e-01, -4.87986505e-02,\n",
       "        1.05985949e-01, -1.41816335e-01,  3.32813154e-02,  7.02918060e-02,\n",
       "       -1.08392965e-01,  1.32449476e-01,  2.40264963e-02, -1.93499119e-01,\n",
       "       -2.03860463e-01, -1.53039635e-01,  9.04741018e-02,  1.00477005e-01,\n",
       "        7.47033087e-02,  4.94265374e-02, -1.72480616e-01, -6.60189578e-02,\n",
       "       -1.23276083e-01,  1.79055885e-01, -1.05405293e-01,  2.63582630e-01,\n",
       "       -1.49544620e-01, -1.33716551e-01, -2.09958614e-01, -1.46534148e-01,\n",
       "       -2.48570653e-01,  1.32949650e-01,  3.41971365e-01, -1.45782553e-01,\n",
       "       -2.28409459e-01,  5.34027851e-02, -2.21426951e-01])"
      ]
     },
     "execution_count": 192,
     "metadata": {},
     "output_type": "execute_result"
    }
   ],
   "source": [
    "L@f"
   ]
  },
  {
   "cell_type": "markdown",
   "metadata": {
    "id": "JsVaDPIb0xiC"
   },
   "source": [
    "<h3>Graficación</h3>\n",
    "\n",
    "Primero, esta es una visualización de la discretización utilizada para aproximar la función."
   ]
  },
  {
   "cell_type": "code",
   "execution_count": 184,
   "metadata": {
    "colab": {
     "base_uri": "https://localhost:8080/",
     "height": 283
    },
    "id": "N2y4eBka0_7b",
    "outputId": "9ed81c87-4f92-41de-e5dd-9a93630ae827"
   },
   "outputs": [
    {
     "data": {
      "text/plain": [
       "<matplotlib.collections.PathCollection at 0x1fd5e992640>"
      ]
     },
     "execution_count": 184,
     "metadata": {},
     "output_type": "execute_result"
    },
    {
     "data": {
      "image/png": "[encoded data removed]",
      "text/plain": [
       "<Figure size 432x288 with 1 Axes>"
      ]
     },
     "metadata": {
      "needs_background": "light"
     },
     "output_type": "display_data"
    }
   ],
   "source": [
    "plt.scatter(v[:,0],v[:,1], s=1)"
   ]
  },
  {
   "cell_type": "markdown",
   "metadata": {
    "id": "GhZKnsvQGsdl"
   },
   "source": [
    "Ahora se muestra gráficamente la diferencia de la solución teórica con la solución aproximada obtenida."
   ]
  },
  {
   "cell_type": "code",
   "execution_count": 185,
   "metadata": {
    "colab": {
     "base_uri": "https://localhost:8080/",
     "height": 248
    },
    "id": "In5BM0F701Tk",
    "outputId": "d0596b2b-2433-4c97-bfcf-dc3b238afb88"
   },
   "outputs": [
    {
     "data": {
      "image/png": "[encoded data removed]",
      "text/plain": [
       "<Figure size 432x288 with 1 Axes>"
      ]
     },
     "metadata": {
      "needs_background": "light"
     },
     "output_type": "display_data"
    }
   ],
   "source": [
    "# Se crea la malla de graficación\n",
    "X = np.arange(-1, 1, 0.01)\n",
    "Y = np.arange(-1, 1, 0.01)\n",
    "X, Y = np.meshgrid(X, Y)\n",
    "\n",
    "# Se grafica la solución teórica\n",
    "Z = (1-X**2-Y**2)/4+10\n",
    "fig = plt.figure()\n",
    "ax = fig.add_subplot(111,projection='3d')\n",
    "ax.set_zlim(9,11)\n",
    "ax.plot_surface(X, Y, Z, rstride=1, cstride=1, cmap=cm.viridis, alpha=0.4)\n",
    "\n",
    "# Se grafican los puntos de la solución aproximada\n",
    "ax.scatter(v[:,0] , v[:,1] , f,  color='red')\n",
    "\n",
    "# Gráfica\n",
    "plt.show()"
   ]
  },
  {
   "cell_type": "markdown",
   "metadata": {
    "id": "JI0Yei8VH4wY"
   },
   "source": [
    "La diferencia proyectando sobre el eje  $xz$. En rojo la solución teórica, en azul la aproximada"
   ]
  },
  {
   "cell_type": "code",
   "execution_count": 186,
   "metadata": {
    "colab": {
     "base_uri": "https://localhost:8080/",
     "height": 301
    },
    "id": "x5JtlEXFHbga",
    "outputId": "6ee2d649-590d-4198-b78f-485adb1a8dc2"
   },
   "outputs": [
    {
     "data": {
      "text/plain": [
       "[<matplotlib.lines.Line2D at 0x1fd615019a0>,\n",
       " <matplotlib.lines.Line2D at 0x1fd61501a90>]"
      ]
     },
     "execution_count": 186,
     "metadata": {},
     "output_type": "execute_result"
    },
    {
     "data": {
      "image/png": "[encoded data removed]",
      "text/plain": [
       "<Figure size 432x288 with 1 Axes>"
      ]
     },
     "metadata": {
      "needs_background": "light"
     },
     "output_type": "display_data"
    }
   ],
   "source": [
    "X=v[:,0]\n",
    "x=np.arange(-1, 1, 0.01)\n",
    "plt.axis([-1,1,8,12])\n",
    "plt.plot(x, (1-x**2)/4+10, 'r', X, f, 'bd')"
   ]
  }
 ],
 "metadata": {
  "colab": {
   "collapsed_sections": [],
   "name": "ProyectoFinal(MR&FE).ipynb",
   "provenance": []
  },
  "kernelspec": {
   "display_name": "Python 3",
   "language": "python",
   "name": "python3"
  },
  "language_info": {
   "codemirror_mode": {
    "name": "ipython",
    "version": 3
   },
   "file_extension": ".py",
   "mimetype": "text/x-python",
   "name": "python",
   "nbconvert_exporter": "python",
   "pygments_lexer": "ipython3",
   "version": "3.8.3"
  }
 },
 "nbformat": 4,
 "nbformat_minor": 4
}
